{
 "cells": [
  {
   "cell_type": "code",
   "execution_count": 1,
   "metadata": {},
   "outputs": [],
   "source": [
    "# 필요한 모듈 import\n",
    "import numpy as np\n",
    "import pandas as pd\n",
    "import os\n",
    "import librosa\n",
    "from scipy.stats import skew\n",
    "from tqdm import tqdm, tqdm_pandas\n",
    "\n",
    "tqdm.pandas()\n",
    "\n",
    "from sklearn.metrics import accuracy_score\n",
    "from sklearn.preprocessing import StandardScaler\n",
    "from sklearn.decomposition import PCA\n",
    "from sklearn.svm import SVC\n",
    "\n",
    "# 필요한 상수 정의\n",
    "# Generate mfcc features with mean and standard deviation\n",
    "SAMPLE_RATE = 16000\n",
    "FOLDER_NAME = \"data\"  # csv파일 생성할 폴더 이름"
   ]
  },
  {
   "cell_type": "code",
   "execution_count": 2,
   "metadata": {},
   "outputs": [],
   "source": [
    "def get_test_file():\n",
    "  file_name = open(f'202301ml_fmcc/fmcc_test_ref.txt', 'r')\n",
    "  train_data_list = []\n",
    "  label_list = []\n",
    "\n",
    "  for i in file_name.readlines():\n",
    "    file, label = i.strip('\\n').split(' ')\n",
    "    \n",
    "    f = open(f'202301ml_fmcc/raw16k/test/' + file + '.raw', 'rb')\n",
    "    file = np.fromfile(f, dtype='int16', sep=\"\")\n",
    "    \n",
    "    train_data_list.append(file.astype(np.float32))\n",
    "    label_list.append(0 if label[0] == 'm' else 1)\n",
    "    \n",
    "  return train_data_list, label_list\n",
    "\n",
    "def get_train_file():\n",
    "  file_name = open(f'202301ml_fmcc/fmcc_train.ctl', 'r')\n",
    "  train_data_list = []\n",
    "  label_list = []\n",
    "  for i in file_name.readlines():\n",
    "    i = i.strip('\\n')\n",
    "    f = open(f'202301ml_fmcc/raw16k/train/' + i + '.raw', 'rb')\n",
    "    file = np.fromfile(f, dtype='int16', sep=\"\")\n",
    "    \n",
    "    train_data_list.append(file.astype(np.float32))\n",
    "    label_list.append(0 if i[0] == 'M' else 1)\n",
    "    \n",
    "  return train_data_list, label_list"
   ]
  },
  {
   "cell_type": "code",
   "execution_count": 3,
   "metadata": {},
   "outputs": [],
   "source": [
    "def get_mfcc(data): \n",
    "    try:\n",
    "        ft1 = librosa.feature.mfcc(y=data, sr=SAMPLE_RATE, n_mfcc=13, fmin=0.0, fmax=280.0)\n",
    "        ft2 = librosa.feature.zero_crossing_rate(y = data)[0]\n",
    "        ft3 = librosa.feature.spectral_rolloff(y = data)[0]\n",
    "        ft4 = librosa.feature.spectral_centroid(y = data)[0]\n",
    "        ft5 = librosa.feature.spectral_contrast(y = data)[0]\n",
    "        ft6 = librosa.feature.spectral_bandwidth(y = data)[0]\n",
    "        ft1_trunc = np.hstack((np.mean(ft1, axis=1), np.std(ft1, axis=1), skew(ft1, axis = 1), np.max(ft1, axis = 1), np.median(ft1, axis = 1), np.min(ft1, axis = 1)))\n",
    "        ft2_trunc = np.hstack((np.mean(ft2), np.std(ft2), skew(ft2), np.max(ft2), np.median(ft2), np.min(ft2)))\n",
    "        ft3_trunc = np.hstack((np.mean(ft3), np.std(ft3), skew(ft3), np.max(ft3), np.median(ft3), np.min(ft3)))\n",
    "        ft4_trunc = np.hstack((np.mean(ft4), np.std(ft4), skew(ft4), np.max(ft4), np.median(ft4), np.min(ft4)))\n",
    "        ft5_trunc = np.hstack((np.mean(ft5), np.std(ft5), skew(ft5), np.max(ft5), np.median(ft5), np.min(ft5)))\n",
    "        ft6_trunc = np.hstack((np.mean(ft6), np.std(ft6), skew(ft6), np.max(ft6), np.median(ft6), np.max(ft6)))\n",
    "        return pd.Series(np.hstack((ft1_trunc, ft2_trunc, ft3_trunc, ft4_trunc, ft5_trunc, ft6_trunc)))\n",
    "    except:\n",
    "        print('bad file')\n",
    "        return pd.Series([0]*210)\n",
    "    \n",
    "def preprocess_data(data_list):\n",
    "    feature_list = []\n",
    "    for i in tqdm(range(len(data_list))):\n",
    "        feature_list.append(get_mfcc(data_list[i]))\n",
    "    return pd.DataFrame(feature_list)"
   ]
  },
  {
   "cell_type": "code",
   "execution_count": 4,
   "metadata": {},
   "outputs": [
    {
     "name": "stdout",
     "output_type": "stream",
     "text": [
      "이미 동일한 이름의 폴더가 존재합니다.\n"
     ]
    }
   ],
   "source": [
    "try:\n",
    "    os.mkdir(FOLDER_NAME)\n",
    "    print(f\"{FOLDER_NAME} 폴더가 성공적으로 생성되었습니다.\")\n",
    "except FileExistsError:\n",
    "    print(\"이미 동일한 이름의 폴더가 존재합니다.\")\n",
    "except Exception as e:\n",
    "    print(\"폴더 생성 중 오류가 발생했습니다:\", str(e))"
   ]
  },
  {
   "cell_type": "code",
   "execution_count": 9,
   "metadata": {},
   "outputs": [
    {
     "name": "stdout",
     "output_type": "stream",
     "text": [
      "csv 파일을 불러옵니다.\n",
      "               0           1          2          3          4          5  \\\n",
      "0     845.439758   54.740139 -10.304996  -3.374656 -26.142143  -1.980940   \n",
      "1     865.309448   87.830994 -23.963638  -3.189837 -26.393600  10.355851   \n",
      "2     879.360657   97.658829 -19.670395   6.613789 -36.396461 -17.482527   \n",
      "3     898.984985   78.352890 -24.819481  15.197286 -15.704755 -14.744845   \n",
      "4     931.512390   96.722969 -43.550098  18.585058 -30.511524 -12.102488   \n",
      "...          ...         ...        ...        ...        ...        ...   \n",
      "9995  922.135315   79.070938 -20.493212  22.361362 -13.656096 -14.424843   \n",
      "9996  832.205444   92.977905  -6.159531  23.326399  -3.188325 -16.548079   \n",
      "9997  922.963806   60.319767 -15.226610  22.077494 -18.685070   6.582681   \n",
      "9998  903.337097  104.594856 -35.664875  33.429745 -18.223595   1.382386   \n",
      "9999  920.578979   76.962433 -34.203190  17.553473 -21.012379 -22.256832   \n",
      "\n",
      "              6          7          8         9  ...       200        201  \\\n",
      "0    -20.317701 -13.167918  -8.889385 -1.279894  ...  1.112625  31.122784   \n",
      "1    -14.350703  -7.774184 -24.485403 -5.078149  ...  0.220403  25.455225   \n",
      "2    -12.869777 -21.944901 -27.167391 -2.179024  ... -0.909471  28.805922   \n",
      "3    -18.177467  -7.825561  -7.040808 -3.220935  ... -0.156958  25.025905   \n",
      "4    -23.187002 -18.562016  -9.997866 -2.574064  ... -0.164352  29.944127   \n",
      "...         ...        ...        ...       ...  ...       ...        ...   \n",
      "9995  -9.273039 -12.947495 -10.014199 -4.842527  ...  0.154286  26.846035   \n",
      "9996 -12.920723   0.548267 -14.225713 -2.725713  ... -0.232421  32.620170   \n",
      "9997 -16.951429   7.450466  -6.325399  1.869956  ...  1.770214  39.089601   \n",
      "9998 -13.607931   5.815838 -15.831128  0.097050  ...  0.840842  31.296304   \n",
      "9999 -17.252590 -17.288692  -8.276896 -3.331674  ...  0.537018  35.495626   \n",
      "\n",
      "            202        203          204         205       206          207  \\\n",
      "0     10.646379   4.345991  2452.006033  380.447868 -0.274310  3087.168294   \n",
      "1     16.402648   8.575869  2320.306546  318.681228  0.485393  2900.275372   \n",
      "2     19.958048   2.794613  2133.477947  380.309140  0.422592  2836.961514   \n",
      "3     15.604625   6.789018  2359.878304  363.083989 -0.146681  3135.044580   \n",
      "4     16.218201   0.713301  2057.241933  109.816465  1.382232  2434.342142   \n",
      "...         ...        ...          ...         ...       ...          ...   \n",
      "9995  20.365465  13.515818  2401.667903  239.099928  1.163928  3088.359598   \n",
      "9996  22.825617  11.785901  2466.446888  291.635634 -0.661532  2868.351784   \n",
      "9997  20.870084  15.851291  2584.654475  121.432371 -0.129680  2787.535098   \n",
      "9998  19.895945  13.057680  2052.846627  156.003709 -0.115914  2323.153046   \n",
      "9999  21.406186  13.925163  2321.391360  328.865501  0.492284  2962.714976   \n",
      "\n",
      "              208          209  \n",
      "0     2542.999922  3087.168294  \n",
      "1     2237.504570  2900.275372  \n",
      "2     1976.137887  2836.961514  \n",
      "3     2413.562375  3135.044580  \n",
      "4     2033.184051  2434.342142  \n",
      "...           ...          ...  \n",
      "9995  2324.652450  3088.359598  \n",
      "9996  2591.246031  2868.351784  \n",
      "9997  2570.070366  2787.535098  \n",
      "9998  2046.746497  2323.153046  \n",
      "9999  2264.837200  2962.714976  \n",
      "\n",
      "[10000 rows x 210 columns]\n"
     ]
    }
   ],
   "source": [
    "try:\n",
    "  print(\"csv 파일을 불러옵니다.\")\n",
    "  train_data_feature = pd.read_csv(f'{FOLDER_NAME}/train_data_feature.csv')\n",
    "  test_data_feature = pd.read_csv(f'{FOLDER_NAME}/test_data_feature.csv')\n",
    "  \n",
    "  train_label = pd.read_csv(f'{FOLDER_NAME}/train_data_label.csv')\n",
    "  test_label = pd.read_csv(f'{FOLDER_NAME}/test_data_label.csv')\n",
    "except:\n",
    "  print(\"csv 파일을 생성합니다.\")\n",
    "  train_data, train_label = get_train_file()\n",
    "  test_data, test_label = get_test_file()\n",
    "\n",
    "  train_data_feature = preprocess_data(train_data)\n",
    "  test_data_feature = preprocess_data(test_data)\n",
    "  \n",
    "  train_data_feature.to_csv(f'{FOLDER_NAME}/train_data_feature.csv', index=False)\n",
    "  test_data_feature.to_csv(f'{FOLDER_NAME}/test_data_feature.csv', index=False)\n",
    "  \n",
    "  pd.DataFrame(train_label).to_csv(f'{FOLDER_NAME}/train_data_label.csv', index=False)\n",
    "  pd.DataFrame(test_label).to_csv(f'{FOLDER_NAME}/test_data_label.csv', index=False)\n",
    "else:\n",
    "  train_label = train_label.values.ravel()\n",
    "  test_label = test_label.values.ravel()"
   ]
  },
  {
   "cell_type": "code",
   "execution_count": 8,
   "metadata": {},
   "outputs": [
    {
     "name": "stdout",
     "output_type": "stream",
     "text": [
      "1\n",
      "(2100000,)\n"
     ]
    }
   ],
   "source": [
    "# from IPython.display import Audio\n",
    "\n",
    "# print(train_label[0])\n",
    "\n",
    "# Audio(train_data[130], rate=SAMPLE_RATE)\n",
    "# Audio(test_data[0], rate=SAMPLE_RATE)"
   ]
  },
  {
   "cell_type": "code",
   "execution_count": null,
   "metadata": {},
   "outputs": [],
   "source": [
    "train_data_feature.shape\n",
    "test_data_feature.shape\n"
   ]
  },
  {
   "cell_type": "code",
   "execution_count": null,
   "metadata": {},
   "outputs": [],
   "source": [
    "train_data_label = np.array(train_label)\n",
    "test_data_label = np.array(test_label)\n"
   ]
  },
  {
   "cell_type": "code",
   "execution_count": null,
   "metadata": {},
   "outputs": [],
   "source": [
    "# Apply scaling for PCA\n",
    "scaler = StandardScaler()\n",
    "train_x_scaled = scaler.fit_transform(train_data_feature)\n",
    "test_x_scaled = scaler.fit_transform(test_data_feature)\n"
   ]
  },
  {
   "cell_type": "code",
   "execution_count": null,
   "metadata": {},
   "outputs": [],
   "source": [
    "train_x_pca = train_x_scaled\n",
    "test_x_pca = test_x_scaled"
   ]
  },
  {
   "cell_type": "code",
   "execution_count": null,
   "metadata": {},
   "outputs": [],
   "source": [
    "# Fit an SVM model\n",
    "clf = SVC(kernel='rbf', probability=True)\n",
    "clf.fit(train_x_pca, train_data_label)\n",
    "\n",
    "train_accuracy = accuracy_score(clf.predict(train_x_pca), train_data_label)\n",
    "print(train_accuracy)"
   ]
  },
  {
   "cell_type": "code",
   "execution_count": null,
   "metadata": {},
   "outputs": [],
   "source": [
    "test_accuracy = accuracy_score(clf.predict(test_x_pca), test_data_label)\n",
    "print(test_accuracy)"
   ]
  }
 ],
 "metadata": {
  "kernelspec": {
   "display_name": "fmcc",
   "language": "python",
   "name": "python3"
  },
  "language_info": {
   "codemirror_mode": {
    "name": "ipython",
    "version": 3
   },
   "file_extension": ".py",
   "mimetype": "text/x-python",
   "name": "python",
   "nbconvert_exporter": "python",
   "pygments_lexer": "ipython3",
   "version": "3.9.16"
  },
  "orig_nbformat": 4
 },
 "nbformat": 4,
 "nbformat_minor": 2
}
