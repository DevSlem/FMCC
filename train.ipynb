{
 "cells": [
  {
   "cell_type": "code",
   "execution_count": 1,
   "metadata": {},
   "outputs": [],
   "source": [
    "import numpy as np\n",
    "\n",
    "def get_test_file():\n",
    "  file_name = open(f'202301ml_fmcc/fmcc_test_ref.txt', 'r')\n",
    "  train_data_list = []\n",
    "  label_list = []\n",
    "\n",
    "  for i in file_name.readlines():\n",
    "    file, label = i.strip('\\n').split(' ')\n",
    "    \n",
    "    f = open(f'202301ml_fmcc/raw16k/test/' + file + '.raw', 'rb')\n",
    "    file = np.fromfile(f, dtype='int16', sep=\"\")\n",
    "    \n",
    "    train_data_list.append(file.astype(np.float32))\n",
    "    label_list.append(0 if label[0] == 'm' else 1)\n",
    "    \n",
    "  return train_data_list, label_list\n",
    "\n",
    "def get_train_file():\n",
    "  file_name = open(f'202301ml_fmcc/fmcc_train.ctl', 'r')\n",
    "  train_data_list = []\n",
    "  label_list = []\n",
    "  for i in file_name.readlines():\n",
    "    i = i.strip('\\n')\n",
    "    f = open(f'202301ml_fmcc/raw16k/train/' + i + '.raw', 'rb')\n",
    "    file = np.fromfile(f, dtype='int16', sep=\"\")\n",
    "    \n",
    "    train_data_list.append(file.astype(np.float32))\n",
    "    label_list.append(0 if i[0] == 'M' else 1)\n",
    "    \n",
    "  return train_data_list, label_list"
   ]
  },
  {
   "cell_type": "code",
   "execution_count": 2,
   "metadata": {},
   "outputs": [],
   "source": [
    "import numpy as np\n",
    "import pandas as pd\n",
    "\n",
    "import os\n",
    "import librosa\n",
    "\n",
    "import scipy\n",
    "from scipy.stats import skew\n",
    "from tqdm import tqdm, tqdm_pandas\n",
    "\n",
    "tqdm.pandas()\n",
    "\n",
    "from sklearn.model_selection import GridSearchCV\n",
    "from sklearn.model_selection import train_test_split\n",
    "from sklearn.metrics import accuracy_score\n",
    "from sklearn.preprocessing import StandardScaler\n",
    "from sklearn.decomposition import PCA\n",
    "\n",
    "from sklearn.svm import SVC"
   ]
  },
  {
   "cell_type": "code",
   "execution_count": 3,
   "metadata": {},
   "outputs": [],
   "source": [
    "# Generate mfcc features with mean and standard deviation\n",
    "SAMPLE_RATE = 16000\n",
    "\n",
    "def get_mfcc(data): \n",
    "    try:\n",
    "        ft1 = librosa.feature.mfcc(y = data, sr = SAMPLE_RATE, n_mfcc=30)\n",
    "        ft2 = librosa.feature.zero_crossing_rate(y = data)[0]\n",
    "        ft3 = librosa.feature.spectral_rolloff(y = data)[0]\n",
    "        ft4 = librosa.feature.spectral_centroid(y = data)[0]\n",
    "        ft5 = librosa.feature.spectral_contrast(y = data)[0]\n",
    "        ft6 = librosa.feature.spectral_bandwidth(y = data)[0]\n",
    "        ft1_trunc = np.hstack((np.mean(ft1, axis=1), np.std(ft1, axis=1), skew(ft1, axis = 1), np.max(ft1, axis = 1), np.median(ft1, axis = 1), np.min(ft1, axis = 1)))\n",
    "        ft2_trunc = np.hstack((np.mean(ft2), np.std(ft2), skew(ft2), np.max(ft2), np.median(ft2), np.min(ft2)))\n",
    "        ft3_trunc = np.hstack((np.mean(ft3), np.std(ft3), skew(ft3), np.max(ft3), np.median(ft3), np.min(ft3)))\n",
    "        ft4_trunc = np.hstack((np.mean(ft4), np.std(ft4), skew(ft4), np.max(ft4), np.median(ft4), np.min(ft4)))\n",
    "        ft5_trunc = np.hstack((np.mean(ft5), np.std(ft5), skew(ft5), np.max(ft5), np.median(ft5), np.min(ft5)))\n",
    "        ft6_trunc = np.hstack((np.mean(ft6), np.std(ft6), skew(ft6), np.max(ft6), np.median(ft6), np.max(ft6)))\n",
    "        return pd.Series(np.hstack((ft1_trunc, ft2_trunc, ft3_trunc, ft4_trunc, ft5_trunc, ft6_trunc)))\n",
    "    except:\n",
    "        print('bad file')\n",
    "        return pd.Series([0]*210)\n",
    "    \n",
    "def preprocess_data(data_list):\n",
    "    feature_list = []\n",
    "    for i in tqdm(range(len(data_list))):\n",
    "        feature_list.append(get_mfcc(data_list[i]))\n",
    "    return pd.DataFrame(feature_list)\n",
    "\n"
   ]
  },
  {
   "cell_type": "code",
   "execution_count": 4,
   "metadata": {},
   "outputs": [
    {
     "name": "stdout",
     "output_type": "stream",
     "text": [
      "폴더가 성공적으로 생성되었습니다.\n"
     ]
    }
   ],
   "source": [
    "import os\n",
    "\n",
    "folder_name = \"data\"  # 생성할 폴더 이름을 지정하세요\n",
    "\n",
    "# 현재 작업 디렉토리에 폴더를 생성합니다\n",
    "try:\n",
    "    os.mkdir(folder_name)\n",
    "    print(\"폴더가 성공적으로 생성되었습니다.\")\n",
    "except FileExistsError:\n",
    "    print(\"이미 동일한 이름의 폴더가 존재합니다.\")\n",
    "except Exception as e:\n",
    "    print(\"폴더 생성 중 오류가 발생했습니다:\", str(e))\n"
   ]
  },
  {
   "cell_type": "code",
   "execution_count": 5,
   "metadata": {},
   "outputs": [
    {
     "name": "stderr",
     "output_type": "stream",
     "text": [
      "100%|██████████| 10000/10000 [01:41<00:00, 98.15it/s] \n",
      "100%|██████████| 900/900 [00:08<00:00, 101.15it/s]\n"
     ]
    }
   ],
   "source": [
    "try:\n",
    "  train_data_feature = pd.read_csv(f'{folder_name}/train_data_feature.csv')\n",
    "  test_data_feature = pd.read_csv(f'{folder_name}/test_data_feature.csv')\n",
    "  \n",
    "  train_label = pd.read_csv(f'{folder_name}/train_data_label.csv')\n",
    "  test_label = pd.read_csv(f'{folder_name}/test_data_label.csv')\n",
    "  \n",
    "  train_label = train_label.values.ravel()\n",
    "  test_label = test_label.values.ravel()\n",
    "except:\n",
    "  train_data, train_label = get_train_file()\n",
    "  test_data, test_label = get_test_file()\n",
    "\n",
    "  train_data_feature = preprocess_data(train_data)\n",
    "  test_data_feature = preprocess_data(test_data)\n",
    "  \n",
    "  train_data_feature.to_csv(f'{folder_name}/train_data_feature.csv', index=False)\n",
    "  test_data_feature.to_csv(f'{folder_name}/test_data_feature.csv', index=False)\n",
    "  \n",
    "  pd.DataFrame(train_label).to_csv(f'{folder_name}/train_data_label.csv', index=False)\n",
    "  pd.DataFrame(test_label).to_csv(f'{folder_name}/test_data_label.csv', index=False)\n"
   ]
  },
  {
   "cell_type": "code",
   "execution_count": 6,
   "metadata": {},
   "outputs": [
    {
     "name": "stdout",
     "output_type": "stream",
     "text": [
      "1\n"
     ]
    },
    {
     "data": {
      "text/html": [
       "\n",
       "                <audio  controls=\"controls\" >\n",
       "                    <source src=\"data:audio/wav;base64,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\" type=\"audio/wav\" />\n",
       "                    Your browser does not support the audio element.\n",
       "                </audio>\n",
       "              "
      ],
      "text/plain": [
       "<IPython.lib.display.Audio object>"
      ]
     },
     "execution_count": 6,
     "metadata": {},
     "output_type": "execute_result"
    }
   ],
   "source": [
    "from IPython.display import Audio\n",
    "\n",
    "print(train_label[0])\n",
    "\n",
    "Audio(train_data[130], rate=SAMPLE_RATE)\n",
    "Audio(test_data[0], rate=SAMPLE_RATE)"
   ]
  },
  {
   "cell_type": "code",
   "execution_count": 7,
   "metadata": {},
   "outputs": [
    {
     "data": {
      "text/plain": [
       "(900, 210)"
      ]
     },
     "execution_count": 7,
     "metadata": {},
     "output_type": "execute_result"
    }
   ],
   "source": [
    "train_data_feature.shape\n",
    "test_data_feature.shape\n"
   ]
  },
  {
   "cell_type": "code",
   "execution_count": 8,
   "metadata": {},
   "outputs": [],
   "source": [
    "train_data_label = np.array(train_label)\n",
    "test_data_label = np.array(test_label)\n"
   ]
  },
  {
   "cell_type": "code",
   "execution_count": 9,
   "metadata": {},
   "outputs": [],
   "source": [
    "# Apply scaling for PCA\n",
    "scaler = StandardScaler()\n",
    "train_x_scaled = scaler.fit_transform(train_data_feature)\n",
    "test_x_scaled = scaler.fit_transform(test_data_feature)\n"
   ]
  },
  {
   "cell_type": "code",
   "execution_count": 10,
   "metadata": {},
   "outputs": [
    {
     "name": "stdout",
     "output_type": "stream",
     "text": [
      "0.880806709351117\n",
      "0.8940401737540838\n"
     ]
    }
   ],
   "source": [
    "train_pca = PCA(n_components=65).fit(train_x_scaled)\n",
    "train_x_pca = train_pca.transform(train_x_scaled)\n",
    "\n",
    "test_pca = PCA(n_components=65).fit(test_x_scaled)\n",
    "test_x_pca = test_pca.transform(test_x_scaled)\n",
    "\n",
    "print(sum(train_pca.explained_variance_ratio_)) \n",
    "print(sum(test_pca.explained_variance_ratio_)) \n"
   ]
  },
  {
   "cell_type": "code",
   "execution_count": 11,
   "metadata": {},
   "outputs": [
    {
     "name": "stdout",
     "output_type": "stream",
     "text": [
      "0.903\n"
     ]
    }
   ],
   "source": [
    "# Fit an SVM model\n",
    "X_train, X_val, y_train, y_val = train_test_split(train_x_pca, train_data_label, test_size = 0.2, random_state = 42, shuffle = True)\n",
    "\n",
    "clf = SVC(kernel = 'rbf', probability=True)\n",
    "\n",
    "clf.fit(X_train, y_train)\n",
    "\n",
    "print(accuracy_score(clf.predict(X_val), y_val))"
   ]
  },
  {
   "cell_type": "code",
   "execution_count": 12,
   "metadata": {},
   "outputs": [
    {
     "name": "stdout",
     "output_type": "stream",
     "text": [
      "0.4777777777777778\n"
     ]
    }
   ],
   "source": [
    "print(accuracy_score(clf.predict(test_x_pca), test_data_label))"
   ]
  }
 ],
 "metadata": {
  "kernelspec": {
   "display_name": "fmcc",
   "language": "python",
   "name": "python3"
  },
  "language_info": {
   "codemirror_mode": {
    "name": "ipython",
    "version": 3
   },
   "file_extension": ".py",
   "mimetype": "text/x-python",
   "name": "python",
   "nbconvert_exporter": "python",
   "pygments_lexer": "ipython3",
   "version": "3.9.16"
  },
  "orig_nbformat": 4
 },
 "nbformat": 4,
 "nbformat_minor": 2
}
